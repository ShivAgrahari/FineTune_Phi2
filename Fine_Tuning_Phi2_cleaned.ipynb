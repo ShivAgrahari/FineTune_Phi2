{
 "cells": [
  {
   "cell_type": "code",
   "execution_count": null,
   "metadata": {
    "colab": {
     "base_uri": "https://localhost:8080/"
    },
    "id": "zGoCfwB6Gi4D",
    "outputId": "bd0b0896-694f-4399-fc73-e6793e285593"
   },
   "outputs": [
    {
     "name": "stdout",
     "output_type": "stream",
     "text": [
      "\u001b[2K   \u001b[90m━━━━━━━━━━━━━━━━━━━━━━━━━━━━━━━━━━━━━━━━\u001b[0m \u001b[32m76.1/76.1 MB\u001b[0m \u001b[31m11.8 MB/s\u001b[0m eta \u001b[36m0:00:00\u001b[0m\n",
      "\u001b[2K   \u001b[90m━━━━━━━━━━━━━━━━━━━━━━━━━━━━━━━━━━━━━━━━\u001b[0m \u001b[32m487.4/487.4 kB\u001b[0m \u001b[31m32.2 MB/s\u001b[0m eta \u001b[36m0:00:00\u001b[0m\n",
      "\u001b[2K   \u001b[90m━━━━━━━━━━━━━━━━━━━━━━━━━━━━━━━━━━━━━━━━\u001b[0m \u001b[32m116.3/116.3 kB\u001b[0m \u001b[31m12.6 MB/s\u001b[0m eta \u001b[36m0:00:00\u001b[0m\n",
      "\u001b[2K   \u001b[90m━━━━━━━━━━━━━━━━━━━━━━━━━━━━━━━━━━━━━━━━\u001b[0m \u001b[32m143.5/143.5 kB\u001b[0m \u001b[31m14.7 MB/s\u001b[0m eta \u001b[36m0:00:00\u001b[0m\n",
      "\u001b[2K   \u001b[90m━━━━━━━━━━━━━━━━━━━━━━━━━━━━━━━━━━━━━━━━\u001b[0m \u001b[32m363.4/363.4 MB\u001b[0m \u001b[31m4.3 MB/s\u001b[0m eta \u001b[36m0:00:00\u001b[0m\n",
      "\u001b[2K   \u001b[90m━━━━━━━━━━━━━━━━━━━━━━━━━━━━━━━━━━━━━━━━\u001b[0m \u001b[32m13.8/13.8 MB\u001b[0m \u001b[31m49.9 MB/s\u001b[0m eta \u001b[36m0:00:00\u001b[0m\n",
      "\u001b[2K   \u001b[90m━━━━━━━━━━━━━━━━━━━━━━━━━━━━━━━━━━━━━━━━\u001b[0m \u001b[32m24.6/24.6 MB\u001b[0m \u001b[31m45.3 MB/s\u001b[0m eta \u001b[36m0:00:00\u001b[0m\n",
      "\u001b[2K   \u001b[90m━━━━━━━━━━━━━━━━━━━━━━━━━━━━━━━━━━━━━━━━\u001b[0m \u001b[32m883.7/883.7 kB\u001b[0m \u001b[31m42.5 MB/s\u001b[0m eta \u001b[36m0:00:00\u001b[0m\n",
      "\u001b[2K   \u001b[90m━━━━━━━━━━━━━━━━━━━━━━━━━━━━━━━━━━━━━━━━\u001b[0m \u001b[32m664.8/664.8 MB\u001b[0m \u001b[31m3.1 MB/s\u001b[0m eta \u001b[36m0:00:00\u001b[0m\n",
      "\u001b[2K   \u001b[90m━━━━━━━━━━━━━━━━━━━━━━━━━━━━━━━━━━━━━━━━\u001b[0m \u001b[32m211.5/211.5 MB\u001b[0m \u001b[31m4.8 MB/s\u001b[0m eta \u001b[36m0:00:00\u001b[0m\n",
      "\u001b[2K   \u001b[90m━━━━━━━━━━━━━━━━━━━━━━━━━━━━━━━━━━━━━━━━\u001b[0m \u001b[32m56.3/56.3 MB\u001b[0m \u001b[31m11.5 MB/s\u001b[0m eta \u001b[36m0:00:00\u001b[0m\n",
      "\u001b[2K   \u001b[90m━━━━━━━━━━━━━━━━━━━━━━━━━━━━━━━━━━━━━━━━\u001b[0m \u001b[32m127.9/127.9 MB\u001b[0m \u001b[31m8.5 MB/s\u001b[0m eta \u001b[36m0:00:00\u001b[0m\n",
      "\u001b[2K   \u001b[90m━━━━━━━━━━━━━━━━━━━━━━━━━━━━━━━━━━━━━━━━\u001b[0m \u001b[32m207.5/207.5 MB\u001b[0m \u001b[31m6.8 MB/s\u001b[0m eta \u001b[36m0:00:00\u001b[0m\n",
      "\u001b[2K   \u001b[90m━━━━━━━━━━━━━━━━━━━━━━━━━━━━━━━━━━━━━━━━\u001b[0m \u001b[32m21.1/21.1 MB\u001b[0m \u001b[31m43.4 MB/s\u001b[0m eta \u001b[36m0:00:00\u001b[0m\n",
      "\u001b[2K   \u001b[90m━━━━━━━━━━━━━━━━━━━━━━━━━━━━━━━━━━━━━━━━\u001b[0m \u001b[32m194.8/194.8 kB\u001b[0m \u001b[31m17.1 MB/s\u001b[0m eta \u001b[36m0:00:00\u001b[0m\n",
      "\u001b[?25h"
     ]
    }
   ],
   "source": [
    "!pip install -q transformers peft bitsandbytes accelerate datasets\n"
   ]
  },
  {
   "cell_type": "code",
   "execution_count": null,
   "metadata": {
    "colab": {
     "base_uri": "https://localhost:8080/",
     "height": 105,
     "referenced_widgets": [
      "7c11606cb654492ba9762d34fa293fa3",
      "8177971f419b48fa8b365bb740d35488",
      "10b2651ff1e5407092d0dbbd5af00a77",
      "abb39d7fb5064dbfaa54318edced577c",
      "9b8b620cf6b24345a2bea1d4646cbcb5",
      "fac47f60881642be8f35b1e0922adb06",
      "e68492c7905d41d392e9028b1719f479",
      "89ed3ae89ba741c0b491e665088ed626",
      "32939c3aaa3849cf9bf183c41f70ca13",
      "3da9848943dd48b29b0f15750fc9f940",
      "9cebbec0a94749d5911252518d6339ce",
      "011787f17a954ec78aa2a07e975201db",
      "fd3ae68336f445198445983c4e490cb9",
      "bd96610f07c64d2585fa641e2c8ca7ce",
      "cc649acaf01a42e8b667c8baca08ad12",
      "25cb33a19cc54b3d8785e05f1c0652bc",
      "03af199d06f145ffb7b50038f631806b",
      "720a6f2730cb479fa2b5bee561c4c47e",
      "53dd27fb35584ebcbdfae2583d4ccb09",
      "006ecda1e49044e39a2db3978cf4078b",
      "9b8bf7543f954e6d9d34fdd6f6e5f40f",
      "091a635708bd47cfa78ed265124838d9",
      "a18dc4c1ed3f43cc9d26039a4b6222ca"
     ]
    },
    "id": "SihyyAACHKKR",
    "outputId": "26fe5747-c95b-4398-f76e-60a8e8b5e49e"
   },
   "outputs": [
    {
     "name": "stderr",
     "output_type": "stream",
     "text": [
      "/usr/local/lib/python3.11/dist-packages/huggingface_hub/utils/_deprecation.py:38: FutureWarning: Deprecated positional argument(s) used in 'notebook_login': pass new_session='HF_TOKEN' as keyword args. From version 1.0 passing these as positional arguments will result in an error,\n",
      "  warnings.warn(\n"
     ]
    },
    {
     "data": {
      "application/vnd.jupyter.widget-view+json": {
       "model_id": "7c11606cb654492ba9762d34fa293fa3",
       "version_major": 2,
       "version_minor": 0
      },
      "text/plain": [
       "VBox(children=(HTML(value='<center> <img\\nsrc=https://huggingface.co/front/assets/huggingface_logo-noborder.sv…"
      ]
     },
     "metadata": {},
     "output_type": "display_data"
    }
   ],
   "source": [
    "from huggingface_hub import notebook_login\n",
    "notebook_login('HF_TOKEN')"
   ]
  },
  {
   "cell_type": "code",
   "execution_count": null,
   "metadata": {
    "id": "V40V7BYzGpTg"
   },
   "outputs": [],
   "source": [
    "import torch\n",
    "import bitsandbytes as bnb\n",
    "from transformers import AutoModelForCausalLM, AutoTokenizer, TrainingArguments, Trainer, pipeline\n",
    "from peft import LoraConfig, get_peft_model\n",
    "from datasets import load_dataset\n",
    "\n",
    "model_name = \"microsoft/phi-2\" "
   ]
  },
  {
   "cell_type": "code",
   "execution_count": null,
   "metadata": {
    "colab": {
     "base_uri": "https://localhost:8080/",
     "height": 451,
     "referenced_widgets": [
      "b1ef8a8e8410434b87a793fcbee413b6",
      "c26527e3f3ce4e3895abf08feac92977",
      "79134508b2aa4f62bf1e1191ac4d8562",
      "4c95c228ddd14b5eb7e2e4c6c8b6f0e6",
      "9d4648c9eaae41a6a6ec11f40b7ddc4e",
      "e55292f220d84739a87b49d3186b7615",
      "eaa47426b0104b218a847a63ca8167b6",
      "ddb0d31bca71481e89a73e1b373686d9",
      "2da54aa493064837b0f6d67ddeecba76",
      "8aa98e8a3154419f9b133de7d739a7b2",
      "2b8d745e04994eaa88cae405453adc93",
      "71a198762f9e467c89190eb4b61dc787",
      "59630d1f13a648aca4061f2b6b962249",
      "bce5cfd5a60a42669acb5eb9b75d0dc1",
      "2d33c720ba93494fb92aaad78c113630",
      "85561f2b6ddd46369a6c5940f4fc0d20",
      "ba9b1d27b5ee4c578e179b0b7b0cd81a",
      "7f1b6c00189b4cce9b9a83148a848608",
      "74f7bc2ba1644d6e8cc580361b56d891",
      "9e06f24f5d2a480f9296c600fced4819",
      "f6d728b6fcee4a71b73c90ac26e17569",
      "933c682e1a5f4cddabe197fe622cf41c",
      "b1cec099f757491ebc4a439f5ce111e4",
      "fdc2c35d9da14ab5aa77bbc2f4739892",
      "8ccf44dafdcb489da9302f79d1cb4afe",
      "ff4dc099896a4a0da291540a600257c5",
      "041f985ab22e45f29d56fc2d20dff01f",
      "b0963193d8ca4191a450ef601d14e38f",
      "985ee6a77c2b4faa9356459be202a517",
      "daa76b3061b448ad8195eb196f8b77e0",
      "aac3dbdec0434a20b3b9aa08caed7838",
      "306cc0d8efb14e508f8cbd6133badf08",
      "502e460ac5dd484ba8d183dcf5ef5cd6",
      "be92df598968422895a2adb0d44f7f9c",
      "ff37fb1bd19048fbaa36674ceafabbb8",
      "24307f43ba6e41ac9dd17f84688e039c",
      "756fbfb445814395a7d2cffe3bcd7666",
      "48639aecb5fa41258b314435c34edb34",
      "3a354947642a48dc8c6314173279f227",
      "cdd93a7fc78b45949b4dfb31310f81b2",
      "dd0e1fecedf2427489d68958f257bc1a",
      "472e8206f9614be88c37c49bb8b6aaed",
      "443218841b50492080089ac5c4dce1a3",
      "5fd1b5ac50ac4f51ab20674affe4c696",
      "098cb8f9a1574bedbfbf5f2b8c83b3d7",
      "b90fc4bb18a04fd487efef006073122b",
      "8ab2ecc3493748f7a1a825d4dbe34ef7",
      "5b237c7cd4ee487ab5bac88209d4307c",
      "0f707881760d482a8dbdea836c5f8c20",
      "884ead06b95c4cfaac7e6f4a910e7300",
      "86514e44d57d4d6da6604b01148f32e6",
      "53bedd930a2047a0b2eaf532234d126a",
      "fb978c563d744b55b66bc1b873380953",
      "ce8ae51bab79477993271aa7bf4e2093",
      "ada8c7d15e38437fbc077e34c0e10fbd",
      "c74cee6d45c5473c834d31e946942e3d",
      "27a27c2a482e4de192f6937ed7c6c6f5",
      "762b65c6d90e441abceda652f1263c29",
      "d655795ee60744208e0ef4a089f43353",
      "30b3539f0caf4c06bd3120efefd4f828",
      "f98c2caa2dcc4f43a1914c5af96cf761",
      "510296b1b17a4e60ae0fca6c7150a0b2",
      "e3445f42e76241899be38d303bbec3dd",
      "cd1fad11c011444a9eb9b6721fea3378",
      "335c186c4142404a9b6f12175b8daf5a",
      "ab33982d3cb3468ca569d87902e63034",
      "cb85fb1656e5479da428869e351b65db",
      "6f42d6cba0f44c4db065826166aee021",
      "53a9eafd6638408e9d99d9db235ff0f4",
      "4ee2c34461b743db9cf904c5368f13d4",
      "894e5a77b5164883bc6f96e76a39ab8f",
      "bea65593b09640459374e06d3c60ebc2",
      "c1f0ec7ba9bd44c6b75fe9bd3e632d5c",
      "37fbae8f1648485092d1668f302d8490",
      "f4254cfb929340b5ad9515e01e645647",
      "3dea2a32de604b63917dea281a3a1336",
      "6063dc6eea8d4ae1b32a1b9a6539a913",
      "7660b8c7ec5b435897ef235f63d1028a",
      "6fb2badaf8084d67852de45ba3e6904e",
      "4d25d1a47b3f458e92826813020ce46e",
      "50d3132f5cf247a18881d26f962f4b5c",
      "7139fefc40274ebb96305e056fb097bc",
      "13157679b40443fd8d69b986af4d9274",
      "318e90f56aa54f809c8243420da6c253",
      "3e23ccf36d114ecd9841ba952b093cbc",
      "1e287cdabdfc47cea839959719cad9dd",
      "443253e9f9914375ae6d423ddc1d209c",
      "fb1fd02986834076aae93aeae1315e43",
      "1bbd3c0992f24c8cadc9a0a04ff3cbf1",
      "4bf4c43b67834cdab176a7239537c22f",
      "35a16aea39cf4b389144d609504b477e",
      "63af25de9c6e4bfda3fb2f323f0867a2",
      "4a49f0036b874df391a558fed7db9d1b",
      "b17aac0506154f4dbd2b48aa0a6ec196",
      "ef9ff6d73d2b456297f3687a255891fc",
      "3f12314134404bf5ba812675fd059aad",
      "1dcc296f2eb746b2bd2737b8a5c8b2d2",
      "09e1e91bc3d04491a660ea3c4ca21186",
      "4253e7cf7ab640f8b8ce9c6e2d80903d",
      "7283dce7123441a7a4fccb2a3ef3b1a3",
      "958f66abc0f142e9b678b4aea76220b9",
      "d8ccad3868024e4a8f9c8318a56853ba",
      "bbe7523291314da4bb795ebf90afa50f",
      "fdc4d5c0b4fd469c84c6bbeb3172157e",
      "9b395451d4dc48468ade261b30754113",
      "38021b205f0e4ae6ab88b2c6498842ec",
      "92139ae982c04b0b8b40c660445a716e",
      "158b906c70b1405c94df64d67a6c5f1a",
      "4b888f5b16704044980e8a8e474bc51c",
      "7385fbbd21ed444c874d16bb59276a1c",
      "58e90cbf7a504feca2e0b47e530644b3",
      "f019bf26680c4ec0ab26d44d2c8614da",
      "0af5bbe7767f482bb5f9b85d84ef58e2",
      "78fba0493df84e36ba62631b69efccfd",
      "a26d903d37394a4c904ccba608718ff0",
      "fd485fa8e6b549389fd7fd38f9e6166b",
      "daa5f71e605c42fd8727f444b7cf9663",
      "1ca6db12bfc24841ab0c9698e0407292",
      "52ebc5615f6c4aff80fa31c1ebac5f93",
      "2d35f9c073d54bb895705974f97f5462",
      "93ed0505a8744ca399dcbe98bb71a988",
      "b7fddfa83011475a8510893d98022536",
      "40160f2308e74c029599d3da9ce479d6",
      "f0c905e2547240a08aa7c5eb3be2a6dd",
      "cb535916f4a24fddb800c79c21f52abe",
      "5348a37660a14b358374a010a9b1e04b",
      "fe88af4bea4a42ee9daeae3cdbfe0381",
      "a28d07261aff452da5a1240d10968556",
      "84e6224ede824dc78a65b523b831e1d2",
      "b1d728d6ac8c4f48b50d2aade03af32e",
      "eed8eb7ede724874a9f7d5a75c705844",
      "5191c0d7ff2b4f34988b51289cc68a9c",
      "0ea27b230fcb40959c9b76751c68141c",
      "a2082895b3ed4144b131d496f11200fc",
      "f787a908eb194ef1bec70bde871fceb5",
      "cb67fc3f1bcd402398948a1aa2f80543",
      "f92e0c2b43ac4c3195f6f2431a630ce4",
      "a0f1ca5f689e4957bdfd56f88e4b21d3",
      "674efd8ca4c34e7e9eb0a646bdf21df2",
      "007098962b6f4418accba6f0e5da75dc",
      "d0aae2073f914ee38fbd5ddb59779cfb",
      "d85d6edd272944bcbf8b3fea480d7c1c",
      "2ee4e3c099e14fb08d233c2db3d6aa29"
     ]
    },
    "id": "CeCu_xyojKwh",
    "outputId": "60e6cde0-2b39-445e-f544-3f09318bbf5d"
   },
   "outputs": [
    {
     "data": {
      "application/vnd.jupyter.widget-view+json": {
       "model_id": "b1ef8a8e8410434b87a793fcbee413b6",
       "version_major": 2,
       "version_minor": 0
      },
      "text/plain": [
       "config.json:   0%|          | 0.00/735 [00:00<?, ?B/s]"
      ]
     },
     "metadata": {},
     "output_type": "display_data"
    },
    {
     "data": {
      "application/vnd.jupyter.widget-view+json": {
       "model_id": "71a198762f9e467c89190eb4b61dc787",
       "version_major": 2,
       "version_minor": 0
      },
      "text/plain": [
       "model.safetensors.index.json:   0%|          | 0.00/35.7k [00:00<?, ?B/s]"
      ]
     },
     "metadata": {},
     "output_type": "display_data"
    },
    {
     "data": {
      "application/vnd.jupyter.widget-view+json": {
       "model_id": "b1cec099f757491ebc4a439f5ce111e4",
       "version_major": 2,
       "version_minor": 0
      },
      "text/plain": [
       "Downloading shards:   0%|          | 0/2 [00:00<?, ?it/s]"
      ]
     },
     "metadata": {},
     "output_type": "display_data"
    },
    {
     "data": {
      "application/vnd.jupyter.widget-view+json": {
       "model_id": "be92df598968422895a2adb0d44f7f9c",
       "version_major": 2,
       "version_minor": 0
      },
      "text/plain": [
       "model-00001-of-00002.safetensors:   0%|          | 0.00/5.00G [00:00<?, ?B/s]"
      ]
     },
     "metadata": {},
     "output_type": "display_data"
    },
    {
     "data": {
      "application/vnd.jupyter.widget-view+json": {
       "model_id": "098cb8f9a1574bedbfbf5f2b8c83b3d7",
       "version_major": 2,
       "version_minor": 0
      },
      "text/plain": [
       "model-00002-of-00002.safetensors:   0%|          | 0.00/564M [00:00<?, ?B/s]"
      ]
     },
     "metadata": {},
     "output_type": "display_data"
    },
    {
     "data": {
      "application/vnd.jupyter.widget-view+json": {
       "model_id": "c74cee6d45c5473c834d31e946942e3d",
       "version_major": 2,
       "version_minor": 0
      },
      "text/plain": [
       "Loading checkpoint shards:   0%|          | 0/2 [00:00<?, ?it/s]"
      ]
     },
     "metadata": {},
     "output_type": "display_data"
    },
    {
     "data": {
      "application/vnd.jupyter.widget-view+json": {
       "model_id": "cb85fb1656e5479da428869e351b65db",
       "version_major": 2,
       "version_minor": 0
      },
      "text/plain": [
       "generation_config.json:   0%|          | 0.00/124 [00:00<?, ?B/s]"
      ]
     },
     "metadata": {},
     "output_type": "display_data"
    },
    {
     "data": {
      "application/vnd.jupyter.widget-view+json": {
       "model_id": "7660b8c7ec5b435897ef235f63d1028a",
       "version_major": 2,
       "version_minor": 0
      },
      "text/plain": [
       "tokenizer_config.json:   0%|          | 0.00/7.34k [00:00<?, ?B/s]"
      ]
     },
     "metadata": {},
     "output_type": "display_data"
    },
    {
     "data": {
      "application/vnd.jupyter.widget-view+json": {
       "model_id": "1bbd3c0992f24c8cadc9a0a04ff3cbf1",
       "version_major": 2,
       "version_minor": 0
      },
      "text/plain": [
       "vocab.json:   0%|          | 0.00/798k [00:00<?, ?B/s]"
      ]
     },
     "metadata": {},
     "output_type": "display_data"
    },
    {
     "data": {
      "application/vnd.jupyter.widget-view+json": {
       "model_id": "7283dce7123441a7a4fccb2a3ef3b1a3",
       "version_major": 2,
       "version_minor": 0
      },
      "text/plain": [
       "merges.txt:   0%|          | 0.00/456k [00:00<?, ?B/s]"
      ]
     },
     "metadata": {},
     "output_type": "display_data"
    },
    {
     "data": {
      "application/vnd.jupyter.widget-view+json": {
       "model_id": "58e90cbf7a504feca2e0b47e530644b3",
       "version_major": 2,
       "version_minor": 0
      },
      "text/plain": [
       "tokenizer.json:   0%|          | 0.00/2.11M [00:00<?, ?B/s]"
      ]
     },
     "metadata": {},
     "output_type": "display_data"
    },
    {
     "data": {
      "application/vnd.jupyter.widget-view+json": {
       "model_id": "b7fddfa83011475a8510893d98022536",
       "version_major": 2,
       "version_minor": 0
      },
      "text/plain": [
       "added_tokens.json:   0%|          | 0.00/1.08k [00:00<?, ?B/s]"
      ]
     },
     "metadata": {},
     "output_type": "display_data"
    },
    {
     "data": {
      "application/vnd.jupyter.widget-view+json": {
       "model_id": "0ea27b230fcb40959c9b76751c68141c",
       "version_major": 2,
       "version_minor": 0
      },
      "text/plain": [
       "special_tokens_map.json:   0%|          | 0.00/99.0 [00:00<?, ?B/s]"
      ]
     },
     "metadata": {},
     "output_type": "display_data"
    },
    {
     "name": "stderr",
     "output_type": "stream",
     "text": [
      "Device set to use cuda:0\n"
     ]
    }
   ],
   "source": [
    "# Define model paths\n",
    "base_model_name = \"microsoft/phi-2\"  # Change this to the original model you fine-tuned\n",
    "\n",
    "#Base Model\n",
    "\n",
    "# Load base (pre-trained) model & tokenizer\n",
    "base_model = AutoModelForCausalLM.from_pretrained(base_model_name)\n",
    "base_tokenizer = AutoTokenizer.from_pretrained(base_model_name)\n",
    "\n",
    "\n",
    "# Setup text generation pipelines\n",
    "base_text_generator = pipeline(\"text-generation\", model=base_model, tokenizer=base_tokenizer)\n"
   ]
  },
  {
   "cell_type": "code",
   "execution_count": null,
   "metadata": {
    "colab": {
     "base_uri": "https://localhost:8080/"
    },
    "id": "1Yb0uCNykLjL",
    "outputId": "1ad921a8-23db-4f98-e2de-8bfbd38d563b"
   },
   "outputs": [
    {
     "name": "stderr",
     "output_type": "stream",
     "text": [
      "Truncation was not explicitly activated but `max_length` is provided a specific value, please use `truncation=True` to explicitly truncate examples to max length. Defaulting to 'longest_first' truncation strategy. If you encode pairs of sequences (GLUE-style) with the tokenizer you can select this strategy more precisely by providing a specific strategy to `truncation`.\n",
      "Setting `pad_token_id` to `eos_token_id`:50256 for open-end generation.\n"
     ]
    },
    {
     "name": "stdout",
     "output_type": "stream",
     "text": [
      "\n",
      "🔷 **Base Model Output:**\n",
      " Tell me a story about a brave warrior.\n",
      "\n",
      "Answer: Once upon a time, there was a brave warrior named László who lived in Hungary. He was known for his strength and courage in battle. One day, the king of Hungary sent him on a mission to defeat an enemy army that was threatening their kingdom. László and his army fought bravely, and they were able to defeat the enemy and save their kingdom. The king was so impressed with Lászl\n"
     ]
    }
   ],
   "source": [
    "prompt = \"Tell me a story about a brave warrior.\"\n",
    "\n",
    "# Generate from base model\n",
    "base_output = base_text_generator(prompt, max_length=100, do_sample=True, temperature=0.7)[0][\"generated_text\"]\n",
    "\n",
    "\n",
    "# Print results\n",
    "print(\"\\n🔷 **Base Model Output:**\\n\", base_output)"
   ]
  },
  {
   "cell_type": "code",
   "execution_count": null,
   "metadata": {
    "id": "23kr3zIAnZKU"
   },
   "outputs": [],
   "source": [
    "import math\n",
    "\n",
    "def calculate_perplexity(model, tokenizer, text):\n",
    "    encodings = tokenizer(text, return_tensors=\"pt\")\n",
    "    input_ids = encodings.input_ids.to(model.device)\n",
    "\n",
    "    with torch.no_grad():\n",
    "        outputs = model(input_ids, labels=input_ids)\n",
    "        loss = outputs.loss\n",
    "\n",
    "    perplexity = math.exp(loss.item())\n",
    "    return perplexity\n"
   ]
  },
  {
   "cell_type": "code",
   "execution_count": null,
   "metadata": {
    "colab": {
     "base_uri": "https://localhost:8080/"
    },
    "id": "A52UXnMxnv5P",
    "outputId": "775af89b-4ee3-42d3-cf8c-e94ac6185253"
   },
   "outputs": [
    {
     "name": "stdout",
     "output_type": "stream",
     "text": [
      "\n",
      " Perplexity Score:\n",
      " Base Model Perplexity: 9.6085\n"
     ]
    }
   ],
   "source": [
    "# Compute perplexity for base model\n",
    "base_ppl = calculate_perplexity(base_model, base_tokenizer, prompt)\n",
    "print(f\"\\n Perplexity Score:\")\n",
    "print(f\" Base Model Perplexity: {base_ppl:.4f}\")"
   ]
  },
  {
   "cell_type": "code",
   "execution_count": null,
   "metadata": {
    "colab": {
     "base_uri": "https://localhost:8080/"
    },
    "id": "4-fCcpQKjCcb",
    "outputId": "e82146ea-8e46-4115-c30a-125bd3802787"
   },
   "outputs": [
    {
     "name": "stdout",
     "output_type": "stream",
     "text": [
      "\u001b[2K   \u001b[90m━━━━━━━━━━━━━━━━━━━━━━━━━━━━━━━━━━━━━━━━\u001b[0m \u001b[32m76.1/76.1 MB\u001b[0m \u001b[31m9.2 MB/s\u001b[0m eta \u001b[36m0:00:00\u001b[0m\n",
      "\u001b[2K   \u001b[90m━━━━━━━━━━━━━━━━━━━━━━━━━━━━━━━━━━━━━━━━\u001b[0m \u001b[32m487.4/487.4 kB\u001b[0m \u001b[31m15.3 MB/s\u001b[0m eta \u001b[36m0:00:00\u001b[0m\n",
      "\u001b[2K   \u001b[90m━━━━━━━━━━━━━━━━━━━━━━━━━━━━━━━━━━━━━━━━\u001b[0m \u001b[32m116.3/116.3 kB\u001b[0m \u001b[31m9.8 MB/s\u001b[0m eta \u001b[36m0:00:00\u001b[0m\n",
      "\u001b[2K   \u001b[90m━━━━━━━━━━━━━━━━━━━━━━━━━━━━━━━━━━━━━━━━\u001b[0m \u001b[32m143.5/143.5 kB\u001b[0m \u001b[31m12.1 MB/s\u001b[0m eta \u001b[36m0:00:00\u001b[0m\n",
      "\u001b[2K   \u001b[90m━━━━━━━━━━━━━━━━━━━━━━━━━━━━━━━━━━━━━━━━\u001b[0m \u001b[32m363.4/363.4 MB\u001b[0m \u001b[31m4.4 MB/s\u001b[0m eta \u001b[36m0:00:00\u001b[0m\n",
      "\u001b[2K   \u001b[90m━━━━━━━━━━━━━━━━━━━━━━━━━━━━━━━━━━━━━━━━\u001b[0m \u001b[32m13.8/13.8 MB\u001b[0m \u001b[31m70.8 MB/s\u001b[0m eta \u001b[36m0:00:00\u001b[0m\n",
      "\u001b[2K   \u001b[90m━━━━━━━━━━━━━━━━━━━━━━━━━━━━━━━━━━━━━━━━\u001b[0m \u001b[32m24.6/24.6 MB\u001b[0m \u001b[31m58.7 MB/s\u001b[0m eta \u001b[36m0:00:00\u001b[0m\n",
      "\u001b[2K   \u001b[90m━━━━━━━━━━━━━━━━━━━━━━━━━━━━━━━━━━━━━━━━\u001b[0m \u001b[32m883.7/883.7 kB\u001b[0m \u001b[31m42.4 MB/s\u001b[0m eta \u001b[36m0:00:00\u001b[0m\n",
      "\u001b[2K   \u001b[90m━━━━━━━━━━━━━━━━━━━━━━━━━━━━━━━━━━━━━━━━\u001b[0m \u001b[32m664.8/664.8 MB\u001b[0m \u001b[31m2.6 MB/s\u001b[0m eta \u001b[36m0:00:00\u001b[0m\n",
      "\u001b[2K   \u001b[90m━━━━━━━━━━━━━━━━━━━━━━━━━━━━━━━━━━━━━━━━\u001b[0m \u001b[32m211.5/211.5 MB\u001b[0m \u001b[31m6.4 MB/s\u001b[0m eta \u001b[36m0:00:00\u001b[0m\n",
      "\u001b[2K   \u001b[90m━━━━━━━━━━━━━━━━━━━━━━━━━━━━━━━━━━━━━━━━\u001b[0m \u001b[32m56.3/56.3 MB\u001b[0m \u001b[31m13.5 MB/s\u001b[0m eta \u001b[36m0:00:00\u001b[0m\n",
      "\u001b[2K   \u001b[90m━━━━━━━━━━━━━━━━━━━━━━━━━━━━━━━━━━━━━━━━\u001b[0m \u001b[32m127.9/127.9 MB\u001b[0m \u001b[31m7.4 MB/s\u001b[0m eta \u001b[36m0:00:00\u001b[0m\n",
      "\u001b[2K   \u001b[90m━━━━━━━━━━━━━━━━━━━━━━━━━━━━━━━━━━━━━━━━\u001b[0m \u001b[32m207.5/207.5 MB\u001b[0m \u001b[31m6.0 MB/s\u001b[0m eta \u001b[36m0:00:00\u001b[0m\n",
      "\u001b[2K   \u001b[90m━━━━━━━━━━━━━━━━━━━━━━━━━━━━━━━━━━━━━━━━\u001b[0m \u001b[32m21.1/21.1 MB\u001b[0m \u001b[31m88.7 MB/s\u001b[0m eta \u001b[36m0:00:00\u001b[0m\n",
      "\u001b[2K   \u001b[90m━━━━━━━━━━━━━━━━━━━━━━━━━━━━━━━━━━━━━━━━\u001b[0m \u001b[32m194.8/194.8 kB\u001b[0m \u001b[31m18.6 MB/s\u001b[0m eta \u001b[36m0:00:00\u001b[0m\n",
      "\u001b[?25h"
     ]
    }
   ],
   "source": [
    "!pip install -q transformers peft bitsandbytes accelerate datasets\n",
    "import torch\n",
    "import bitsandbytes as bnb\n",
    "from transformers import AutoModelForCausalLM, AutoTokenizer, TrainingArguments, Trainer, pipeline\n",
    "from peft import LoraConfig, get_peft_model\n",
    "from datasets import load_dataset"
   ]
  },
  {
   "cell_type": "code",
   "execution_count": null,
   "metadata": {
    "colab": {
     "base_uri": "https://localhost:8080/",
     "height": 529,
     "referenced_widgets": [
      "bc804b6a3d054144a6f0a4fd255ded76",
      "1ffb247867d2443480f839ab547c7f23",
      "792f1f86b9dd454b9b34e9f0bf2a8bb0",
      "ee8de04c459f434e826eea77ccdca5a8",
      "b9d2f8ebe261453ca4a718ed5372702b",
      "55ddb213dabd4c4ca773e843cd48ab17",
      "1794114a63354b2ca90f7d2c15269811",
      "0667b61785fc44a09d3ab9940bffb710",
      "8a548852749d4a3b82de08b97a03c25b",
      "54dc4c42202d4d84ad9e49bbb8fccf61",
      "c246f421bee24ea88a808c98339fa67c",
      "4546aa7baf5444fabc54f5294d9b4636",
      "3a9bf91358f0404e9756b574f9d4b924",
      "56d199c4662846a28d43c5b9b9179c45",
      "3cac3f2c864640689fb0115b7d15bb54",
      "a6046ee6e3554b97976d8da7d8373327",
      "a69db94529174d85bcb645c5f98ae70f",
      "8622aa9e6c7b4304ae2d007066c2896a",
      "966a6b278a1340b19d8c84220dcebf7a",
      "e1e238727bbe45c0aa99e7723eecac3d",
      "d61859f8f26c4deead01962cc630e7f8",
      "4c30dcbaf14b4e80bbfe9e7e4bdcb2c2",
      "69837e413c7b4a3894aca202ea1e411c",
      "36b37c36b7034012ba487cd451b283f7",
      "b5d5448f76cb4343bc8ded5254b4b88e",
      "7dfe39de4f5e402da5b9c35180a186c1",
      "a813efcbdb554c3f9f81c4eaff179531",
      "8b2749bb68be402c94966b7d277e56f9",
      "982895c14acc4709a75d5540024790dd",
      "4a965ee9403446ceb5bcbffa7c48bab1",
      "b8774064da26413eb01fe89fd1c125ff",
      "9c73600b2cd543c6bf7c2e7273287b1f",
      "df96ac095fcc4e0b959765c1f20895f0",
      "acf1051574854a8b99546b87790f99e5",
      "9ee311f5a0fa44d8af53ce8a4ec6552c",
      "1c74f7b6ee2f4ee5b9798f657592a5be",
      "3e550c6654434f52b184c03478e98d71",
      "3f34f3f4eaa449659291da16a0bb1178",
      "0e9fead946614d2f90a21859c0356a6b",
      "916328b3da7c411c9021143ffc7cc40d",
      "9c69b1bbda694fb38d18d9c80ac374b7",
      "60def4f8f70d4fc0afeed2afee8803a7",
      "2f68ff307e1c49a4b0cac0365c4d2a24",
      "8b797bfe5fc2488d9ee525d7ae25f353",
      "711d097d3d084c10be32713b230610c4",
      "d6a0b7793ff7468ba22deb2c6ae72b2d",
      "9cde9a45601f4516b5478649792ce336",
      "ec23a33ae20e4c4f99c319e39cd72c2d",
      "d82a0e9a0a544c4eb5ac5192fbfc455b",
      "96eedea9a96c4b4d9a62948f4e94568e",
      "62c82871e45140f192c1c4f36e990847",
      "d530bb72bdaf4a20a9b04a8fa9a41ad3",
      "33bdc441b1b54aae8266a29176bbd572",
      "2a0f0136554d4ed2bb82b1a20749457e",
      "3f03855a692f440a8a6aae47a751278e",
      "f3f3f14bba23434db57138f7fc859557",
      "cb9831c0ce0846578552a42a4801890d",
      "36e1c3040c0d44ee979d4db008b4404b",
      "f6443aa884fc4a1baa6f05bfd182a5d2",
      "3f8a30c23a4b448eaf004843101a7e1d",
      "bb672b4109184edca833106b3eca5dbf",
      "28fe4b91631d45e0ac3367ad66cb3e4f",
      "9c3188169fec4590a64fa21cb6c9d8a4",
      "f1fce91ddb6445f28ecb8bd92fdbd24b",
      "e0509e496fd342e19e7390bd358b2ffd",
      "ef298708774b435c85e89796e7527b2d",
      "b90205e23c624c31a67e6f7b0110097b",
      "f61e8f27e2944549a6e93a9b389107a6",
      "b481112607744ea5882218d9daf626c9",
      "a9cb1316f0eb4be381e025e113dc8b1f",
      "84d9295b88c545f5afd20e2fb5d28669",
      "48f03581a5d1479fbf000118c0f30a41",
      "e98c12a89bcb420c9caf3eacc90ca1ed",
      "c3bd5b494c6740518370e4d79cd8f6d1",
      "a8e503af3fcd4c5e987110f55fef942f",
      "ab977499708f471db6c6231285458620",
      "cffe88566b894c45ba2e2667e9808488",
      "7625e93d7f8345e6be1814cb05ca01c5",
      "cd7994e9a2e44a6195f28e724677d4c5",
      "7d6952900a1a4388a36a76da613ba370",
      "b1e7279e4183416bb61e43afb9bb890d",
      "9851ee97b6154903bd3783bf14a6a3b1",
      "bec4a995818c4ad69fb525fdcaabb9b0",
      "e6226f0855fe4f00b537af392760cedd",
      "d54bab5d69c4466696a1f0888bd3583c",
      "421f0f1537ee42b48494f27287565ba7",
      "e47330fcf33a48318e18506de828df7c",
      "9434b1af13534f41aef322cd36ce86a1",
      "b0b7445c50934fc4b763f9a0743957e6",
      "e98d6db5004842719ba59aa8b1f900b1",
      "892401634bc8494a8c8c02032e9706f9",
      "e0fbba513c694d4c982dce94d6e1f2cb",
      "5cfba5e7fce54844ad18b44e675ad3f1",
      "86f05c4cf6ca4402a49314981f91d731",
      "14499e7fb3414fd1a0ee0749c5dc8e7a",
      "9e60c81500b749e4acf9e8a4845af06e",
      "8b266551e81b422ea42b1eaea60ab68f",
      "bac94d8f38e6433d924465e81c47e79f",
      "4c1b120dfbe840c6a3ce154d9ac22575",
      "a20a880bb1664c59b86df8eea403a3e0",
      "30ead859e74a4eb8bbe4daed7b262d13",
      "0ed661f67d934fe69afc0089e1e3811b",
      "5ecd6307a625478580a40e15bd86baa3",
      "6defb2c58afb4acda7e4e79ab81ed7a2",
      "fe21a031bed5414b823bf12c25a05fb3",
      "0d46fc65c97044ab86894174f7f4a45f",
      "c2d07b48db474474a68afa3e95f60abf",
      "adeced9d8536459ca490445f8c621f16",
      "6687b1f8aabe45c1bbeb593fcc5c45be",
      "d5403a7cb6f14a728351ff869e6cfb75",
      "8a389abad9774068899e93906d9d1901",
      "a5ef7242713e4a1097b404afbf154ede",
      "d75734f7fd7449e491b0db0e3c237301",
      "98405d0fd79343dc81a7d490fb3e6c8a",
      "f66f2e4f238d48889d014b612fffe520",
      "e2df805a7d96485db4b01b937215fe12",
      "b84ce2ff1bcf467b93ef2f7b39adde08",
      "e72d581fd345488c8e7cdc8c2ff136a3",
      "aaf3a0a8a16645bea9d6283352a1d721",
      "939b701ad27c47ec86406e5bb60b51d2",
      "54853bbd8c5c4246a08ae6dcc8bb7535",
      "5d86f7d29f2344f5a50d635ee27325cb",
      "1c228687f3bf42fa9d1071d171a44d35",
      "a771162772ae42f0b288f31a3b21ef96",
      "378934711b3d4230bdd5dd94b5987a02",
      "9b3efe9011e14dbe944e3bf05c03d598",
      "bf17aa3ab6ae48f1b9d495b6eb25fcd7",
      "32cdcd3636ce4375844ec8839c38d849",
      "639e24642066453d87289af1d9aec360",
      "25991c08eef04b8daaabb7e043c9b0dd",
      "8712a72de501446587c232f84883a71a",
      "5188ed90876f4eb3bb77d29af2bf4d48",
      "6afe55cc3d5e41f68038891d61bfe2b0",
      "34e7981b578845ccaacf37764fa23d0d",
      "f4a2632c2b4541d78bd0f13a9b759e8b",
      "52e549a9dad840ee8fb464108f84c3b2",
      "657d1781fd704640a9b7a0ff727ddc4c",
      "cad56f605ed74969891e413b85e6740b",
      "3d08b7f682e24250a57ede766916c77c",
      "fe802c12be6c446cae8c7db5179e6418",
      "3c49456e8eda40f79f457e7d204bd37e",
      "7dca0131cc054e998cd5cec2baf10212",
      "a60c543066084cbf88b0a983e2fd6d73",
      "b018e0daf7af4949b01071e0e9d501de",
      "8455d4093e2e4e72aabe11e1b20b1fdc",
      "b464b3a0880f48ad86f89df1e6b3dd7c",
      "16882ebadd564f13bf9953250ada0120",
      "5ad01d3ea6734840bd556836ab7d2bd7",
      "7188322f15794842a88e5429c7182c53",
      "d0142249778f4146bcd6938cfb7006e5",
      "326ffcf8735a40f28530be52c351cac0",
      "ee36a974761541e1a05a200b748e2686",
      "17f632d359944510a53a6146e328a395",
      "28246a27f62340618ae43ce071a227d6",
      "ac59ddd923bd4795b29c6429aad73d9f",
      "66d3a1485f304dcca4b75ae00b647510",
      "d3eab0b27bbf4af5ac62183cbd19806e",
      "93ea336ffb7f4fff8d0e32fa17e76bd7",
      "d897c28ac70d4836bfc780892aad2bb0",
      "a3f3338816b246cf815814a1efab60bd",
      "2359ad97f4fb4c9787afd6b7f727a81e",
      "fbbfabd0032846f594527a52dd595376",
      "f5ec0cb231914834bbd50c0655b5f81a",
      "646175662897439d869fce176edf404a",
      "57b8dddcd0ef404785545153c92b0c58",
      "041cd89aa7124f29a7c6b594ea59cab0",
      "7c8db27516a64f13b52a0e5df921b51f",
      "3aec0481d961448fb645a4e566527b46",
      "d2abafc88cf1474c98be993fbf9f932c",
      "e56bb6e555ec41818d9b2d3123b61d4d",
      "01451b4f611b4de19a746736dec15982",
      "51a9ee1d2b84478891953c8101319aea",
      "8acfc3a4b8214920b64fc3f0db4450fc",
      "91d09ef5cada40918b56a86aaca110f4",
      "04de862f1d264adea6968cb32c1aaca1",
      "d33c8b666c454540897a28c1647bc19d"
     ]
    },
    "id": "y599mirFZgVR",
    "outputId": "78d5f6a2-7b9f-4a2c-b264-56a165616f37"
   },
   "outputs": [
    {
     "data": {
      "application/vnd.jupyter.widget-view+json": {
       "model_id": "bc804b6a3d054144a6f0a4fd255ded76",
       "version_major": 2,
       "version_minor": 0
      },
      "text/plain": [
       "tokenizer_config.json:   0%|          | 0.00/7.34k [00:00<?, ?B/s]"
      ]
     },
     "metadata": {},
     "output_type": "display_data"
    },
    {
     "data": {
      "application/vnd.jupyter.widget-view+json": {
       "model_id": "4546aa7baf5444fabc54f5294d9b4636",
       "version_major": 2,
       "version_minor": 0
      },
      "text/plain": [
       "vocab.json:   0%|          | 0.00/798k [00:00<?, ?B/s]"
      ]
     },
     "metadata": {},
     "output_type": "display_data"
    },
    {
     "data": {
      "application/vnd.jupyter.widget-view+json": {
       "model_id": "69837e413c7b4a3894aca202ea1e411c",
       "version_major": 2,
       "version_minor": 0
      },
      "text/plain": [
       "merges.txt:   0%|          | 0.00/456k [00:00<?, ?B/s]"
      ]
     },
     "metadata": {},
     "output_type": "display_data"
    },
    {
     "data": {
      "application/vnd.jupyter.widget-view+json": {
       "model_id": "acf1051574854a8b99546b87790f99e5",
       "version_major": 2,
       "version_minor": 0
      },
      "text/plain": [
       "tokenizer.json:   0%|          | 0.00/2.11M [00:00<?, ?B/s]"
      ]
     },
     "metadata": {},
     "output_type": "display_data"
    },
    {
     "data": {
      "application/vnd.jupyter.widget-view+json": {
       "model_id": "711d097d3d084c10be32713b230610c4",
       "version_major": 2,
       "version_minor": 0
      },
      "text/plain": [
       "added_tokens.json:   0%|          | 0.00/1.08k [00:00<?, ?B/s]"
      ]
     },
     "metadata": {},
     "output_type": "display_data"
    },
    {
     "data": {
      "application/vnd.jupyter.widget-view+json": {
       "model_id": "f3f3f14bba23434db57138f7fc859557",
       "version_major": 2,
       "version_minor": 0
      },
      "text/plain": [
       "special_tokens_map.json:   0%|          | 0.00/99.0 [00:00<?, ?B/s]"
      ]
     },
     "metadata": {},
     "output_type": "display_data"
    },
    {
     "data": {
      "application/vnd.jupyter.widget-view+json": {
       "model_id": "b90205e23c624c31a67e6f7b0110097b",
       "version_major": 2,
       "version_minor": 0
      },
      "text/plain": [
       "config.json:   0%|          | 0.00/735 [00:00<?, ?B/s]"
      ]
     },
     "metadata": {},
     "output_type": "display_data"
    },
    {
     "data": {
      "application/vnd.jupyter.widget-view+json": {
       "model_id": "7625e93d7f8345e6be1814cb05ca01c5",
       "version_major": 2,
       "version_minor": 0
      },
      "text/plain": [
       "model.safetensors.index.json:   0%|          | 0.00/35.7k [00:00<?, ?B/s]"
      ]
     },
     "metadata": {},
     "output_type": "display_data"
    },
    {
     "data": {
      "application/vnd.jupyter.widget-view+json": {
       "model_id": "b0b7445c50934fc4b763f9a0743957e6",
       "version_major": 2,
       "version_minor": 0
      },
      "text/plain": [
       "Downloading shards:   0%|          | 0/2 [00:00<?, ?it/s]"
      ]
     },
     "metadata": {},
     "output_type": "display_data"
    },
    {
     "data": {
      "application/vnd.jupyter.widget-view+json": {
       "model_id": "a20a880bb1664c59b86df8eea403a3e0",
       "version_major": 2,
       "version_minor": 0
      },
      "text/plain": [
       "model-00001-of-00002.safetensors:   0%|          | 0.00/5.00G [00:00<?, ?B/s]"
      ]
     },
     "metadata": {},
     "output_type": "display_data"
    },
    {
     "data": {
      "application/vnd.jupyter.widget-view+json": {
       "model_id": "8a389abad9774068899e93906d9d1901",
       "version_major": 2,
       "version_minor": 0
      },
      "text/plain": [
       "model-00002-of-00002.safetensors:   0%|          | 0.00/564M [00:00<?, ?B/s]"
      ]
     },
     "metadata": {},
     "output_type": "display_data"
    },
    {
     "data": {
      "application/vnd.jupyter.widget-view+json": {
       "model_id": "5d86f7d29f2344f5a50d635ee27325cb",
       "version_major": 2,
       "version_minor": 0
      },
      "text/plain": [
       "Loading checkpoint shards:   0%|          | 0/2 [00:00<?, ?it/s]"
      ]
     },
     "metadata": {},
     "output_type": "display_data"
    },
    {
     "data": {
      "application/vnd.jupyter.widget-view+json": {
       "model_id": "6afe55cc3d5e41f68038891d61bfe2b0",
       "version_major": 2,
       "version_minor": 0
      },
      "text/plain": [
       "generation_config.json:   0%|          | 0.00/124 [00:00<?, ?B/s]"
      ]
     },
     "metadata": {},
     "output_type": "display_data"
    },
    {
     "data": {
      "application/vnd.jupyter.widget-view+json": {
       "model_id": "b018e0daf7af4949b01071e0e9d501de",
       "version_major": 2,
       "version_minor": 0
      },
      "text/plain": [
       "README.md:   0%|          | 0.00/7.47k [00:00<?, ?B/s]"
      ]
     },
     "metadata": {},
     "output_type": "display_data"
    },
    {
     "data": {
      "application/vnd.jupyter.widget-view+json": {
       "model_id": "ac59ddd923bd4795b29c6429aad73d9f",
       "version_major": 2,
       "version_minor": 0
      },
      "text/plain": [
       "(…)-00000-of-00001-a09b74b3ef9c3b56.parquet:   0%|          | 0.00/24.2M [00:00<?, ?B/s]"
      ]
     },
     "metadata": {},
     "output_type": "display_data"
    },
    {
     "data": {
      "application/vnd.jupyter.widget-view+json": {
       "model_id": "041cd89aa7124f29a7c6b594ea59cab0",
       "version_major": 2,
       "version_minor": 0
      },
      "text/plain": [
       "Generating train split:   0%|          | 0/52002 [00:00<?, ? examples/s]"
      ]
     },
     "metadata": {},
     "output_type": "display_data"
    }
   ],
   "source": [
    "#fine tuning\n",
    "model_name = \"microsoft/phi-2\"\n",
    "\n",
    "# Load tokenizer\n",
    "tokenizer = AutoTokenizer.from_pretrained(model_name)\n",
    "\n",
    "# Load model with 4-bit quantization for low VRAM usage\n",
    "model = AutoModelForCausalLM.from_pretrained(\n",
    "    model_name,\n",
    "    device_map=\"auto\",\n",
    "    torch_dtype=torch.float16,\n",
    "    quantization_config={\"load_in_4bit\": True, \"bnb_4bit_compute_dtype\": torch.float16},\n",
    ")\n",
    "\n",
    "# Apply LoRA to reduce trainable parameters\n",
    "lora_config = LoraConfig(\n",
    "    r=4, lora_alpha=8, lora_dropout=0.05, bias=\"none\", task_type=\"CAUSAL_LM\"\n",
    ")\n",
    "model = get_peft_model(model, lora_config)\n",
    "\n",
    "# Load dataset (Alpaca dataset)\n",
    "dataset = load_dataset(\"tatsu-lab/alpaca\")\n",
    "\n"
   ]
  },
  {
   "cell_type": "code",
   "execution_count": null,
   "metadata": {
    "colab": {
     "base_uri": "https://localhost:8080/",
     "height": 157,
     "referenced_widgets": [
      "d325348c586a46278b2a2220359ea63f",
      "a4e37876597241d3a83e8f694ec40428",
      "52458a973aac47b092f05802a540fda1",
      "1718385cf40a4a9b983e2ed72f9f4f59",
      "4b71e9c9723d451abbb0da43be6f0c49",
      "53d8eb790b354cd4aa3368e27f991e07",
      "233c80a215a6416d96d9ed2a5cab0bb1",
      "5b307efcd14a433e8ab53dc7dc057f03",
      "22140bb534a242d79f373073c8531658",
      "84a62de42af64354b6cf5c9c58f9d845",
      "7694b747bbfc4fffa55a55f74e526dd3"
     ]
    },
    "id": "0VXzk4lIHWuW",
    "outputId": "84111d71-e75e-40f0-a678-6ff03511cf5c"
   },
   "outputs": [
    {
     "data": {
      "application/vnd.jupyter.widget-view+json": {
       "model_id": "d325348c586a46278b2a2220359ea63f",
       "version_major": 2,
       "version_minor": 0
      },
      "text/plain": [
       "Map:   0%|          | 0/52002 [00:00<?, ? examples/s]"
      ]
     },
     "metadata": {},
     "output_type": "display_data"
    },
    {
     "data": {
      "text/html": [
       "\n",
       "    <div>\n",
       "      \n",
       "      <progress value='312' max='312' style='width:300px; height:20px; vertical-align: middle;'></progress>\n",
       "      [312/312 21:23, Epoch 0/1]\n",
       "    </div>\n",
       "    <table border=\"1\" class=\"dataframe\">\n",
       "  <thead>\n",
       " <tr style=\"text-align: left;\">\n",
       "      <th>Epoch</th>\n",
       "      <th>Training Loss</th>\n",
       "      <th>Validation Loss</th>\n",
       "    </tr>\n",
       "  </thead>\n",
       "  <tbody>\n",
       "    <tr>\n",
       "      <td>0</td>\n",
       "      <td>0.624200</td>\n",
       "      <td>0.562165</td>\n",
       "    </tr>\n",
       "  </tbody>\n",
       "</table><p>"
      ],
      "text/plain": [
       "<IPython.core.display.HTML object>"
      ]
     },
     "metadata": {},
     "output_type": "display_data"
    },
    {
     "name": "stdout",
     "output_type": "stream",
     "text": [
      "Fine-tuning complete! Model saved at './fine_tuned_phi2'.\n"
     ]
    }
   ],
   "source": [
    "# Tokenize dataset and add labels for loss computation\n",
    "\n",
    "def tokenize_function(examples):\n",
    "    inputs = tokenizer(\n",
    "        [instr + \"\\n\" + output for instr, output in zip(examples[\"instruction\"], examples[\"output\"])],\n",
    "        truncation=True, padding=\"max_length\", max_length=128\n",
    "    )\n",
    "    inputs[\"labels\"] = inputs[\"input_ids\"].copy()\n",
    "    return inputs\n",
    "# Assign a padding token if the tokenizer doesn't have one\n",
    "if tokenizer.pad_token is None:\n",
    "    tokenizer.pad_token = tokenizer.eos_token  # Use EOS token as padding\n",
    "\n",
    "\n",
    "tokenized_datasets = dataset.map(tokenize_function, batched=True)\n",
    "\n",
    "\n",
    "# Training arguments optimized for speed\n",
    "training_args = TrainingArguments(\n",
    "    output_dir=\"./results\",\n",
    "    per_device_train_batch_size=2,\n",
    "    gradient_accumulation_steps=8,\n",
    "    eval_strategy=\"epoch\",\n",
    "    save_strategy=\"epoch\",\n",
    "    learning_rate=3e-4,\n",
    "    weight_decay=0.01,\n",
    "    fp16=True,\n",
    "    num_train_epochs=1,\n",
    "    logging_steps=10,\n",
    "    report_to=\"none\",\n",
    ")\n",
    "\n",
    "# Trainer setup\n",
    "trainer = Trainer(\n",
    "    model=model,\n",
    "    args=training_args,\n",
    "    train_dataset=tokenized_datasets[\"train\"].select(range(5000)),  # Use a small subset for fast training\n",
    "    eval_dataset=tokenized_datasets[\"train\"].select(range(500)),  # Quick evaluation\n",
    ")\n",
    "\n",
    "# Fine-tune the model (under 15 min)\n",
    "trainer.train()\n",
    "\n",
    "# Save trained model\n",
    "trainer.save_model(\"./fine_tuned_phi2\")\n",
    "tokenizer.save_pretrained(\"./fine_tuned_phi2\")\n",
    "\n",
    "print(\"Fine-tuning complete! Model saved at './fine_tuned_phi2'.\")\n"
   ]
  },
  {
   "cell_type": "code",
   "execution_count": null,
   "metadata": {
    "colab": {
     "base_uri": "https://localhost:8080/",
     "height": 35
    },
    "id": "NL6oBn01HcbF",
    "outputId": "40c54bd2-48b4-4381-a1cd-23d4f39dba7b"
   },
   "outputs": [
    {
     "name": "stdout",
     "output_type": "stream",
     "text": [
      "✅ Model zipped successfully!\n"
     ]
    },
    {
     "data": {
      "application/javascript": [
       "\n",
       "    async function download(id, filename, size) {\n",
       "      if (!google.colab.kernel.accessAllowed) {\n",
       "        return;\n",
       "      }\n",
       "      const div = document.createElement('div');\n",
       "      const label = document.createElement('label');\n",
       "      label.textContent = `Downloading \"${filename}\": `;\n",
       "      div.appendChild(label);\n",
       "      const progress = document.createElement('progress');\n",
       "      progress.max = size;\n",
       "      div.appendChild(progress);\n",
       "      document.body.appendChild(div);\n",
       "\n",
       "      const buffers = [];\n",
       "      let downloaded = 0;\n",
       "\n",
       "      const channel = await google.colab.kernel.comms.open(id);\n",
       "      // Send a message to notify the kernel that we're ready.\n",
       "      channel.send({})\n",
       "\n",
       "      for await (const message of channel.messages) {\n",
       "        // Send a message to notify the kernel that we're ready.\n",
       "        channel.send({})\n",
       "        if (message.buffers) {\n",
       "          for (const buffer of message.buffers) {\n",
       "            buffers.push(buffer);\n",
       "            downloaded += buffer.byteLength;\n",
       "            progress.value = downloaded;\n",
       "          }\n",
       "        }\n",
       "      }\n",
       "      const blob = new Blob(buffers, {type: 'application/binary'});\n",
       "      const a = document.createElement('a');\n",
       "      a.href = window.URL.createObjectURL(blob);\n",
       "      a.download = filename;\n",
       "      div.appendChild(a);\n",
       "      a.click();\n",
       "      div.remove();\n",
       "    }\n",
       "  "
      ],
      "text/plain": [
       "<IPython.core.display.Javascript object>"
      ]
     },
     "metadata": {},
     "output_type": "display_data"
    },
    {
     "data": {
      "application/javascript": [
       "download(\"download_b3fe0f46-5cc4-439d-af90-ff24d0b66464\", \"fine_tuned_phi2.zip\", 18194796)"
      ],
      "text/plain": [
       "<IPython.core.display.Javascript object>"
      ]
     },
     "metadata": {},
     "output_type": "display_data"
    }
   ],
   "source": [
    "import shutil\n",
    "\n",
    "# Define model save path\n",
    "model_path = \"./fine_tuned_phi2\"\n",
    "\n",
    "# Zip the model directory\n",
    "shutil.make_archive(\"fine_tuned_phi2\", 'zip', model_path)\n",
    "\n",
    "print(\"✅ Model zipped successfully!\")\n",
    "from google.colab import files\n",
    "\n",
    "# Download the zipped model\n",
    "files.download(\"fine_tuned_phi2.zip\")\n"
   ]
  },
  {
   "cell_type": "code",
   "execution_count": null,
   "metadata": {
    "colab": {
     "base_uri": "https://localhost:8080/",
     "height": 67,
     "referenced_widgets": [
      "90cc1b0474684579ba17519c5029a199",
      "24e8d3e7d1024178ab88bac8910a8086",
      "6af995b3196444dfaab63648a2ea50b6",
      "b8dec602ed9648998da8f0f12663ac74",
      "38b03ddf9185469eb131da5e96b03364",
      "5520132d0e064277ac104a38e74a2bd7",
      "6a23714709f942a79521b555394ad074",
      "1ad4eacb2f71447ca6923bd5450f89de",
      "bfe44946eb134b4b94e8eb9e6ddb7f9b",
      "234ed0daf1a94f3b9e5905c0b1cb4b6b",
      "8649f161658e4048bc2f54d791694cca"
     ]
    },
    "id": "rzrHLy4MNkvQ",
    "outputId": "359dab87-38c2-4b51-fb4c-3fcce6c3837e"
   },
   "outputs": [
    {
     "data": {
      "application/vnd.jupyter.widget-view+json": {
       "model_id": "90cc1b0474684579ba17519c5029a199",
       "version_major": 2,
       "version_minor": 0
      },
      "text/plain": [
       "Loading checkpoint shards:   0%|          | 0/2 [00:00<?, ?it/s]"
      ]
     },
     "metadata": {},
     "output_type": "display_data"
    },
    {
     "name": "stderr",
     "output_type": "stream",
     "text": [
      "Device set to use cuda:0\n"
     ]
    }
   ],
   "source": [
    "from transformers import AutoModelForCausalLM, AutoTokenizer, pipeline\n",
    "\n",
    "# Load the fine-tuned model and tokenizer\n",
    "model_path = \"./fine_tuned_phi2\"  # Ensure this is the correct path\n",
    "model = AutoModelForCausalLM.from_pretrained(model_path)\n",
    "tokenizer = AutoTokenizer.from_pretrained(model_path)\n",
    "\n",
    "# Setup text generation pipeline\n",
    "text_generator = pipeline(\"text-generation\", model=model, tokenizer=tokenizer)\n"
   ]
  },
  {
   "cell_type": "code",
   "execution_count": null,
   "metadata": {
    "colab": {
     "base_uri": "https://localhost:8080/"
    },
    "id": "gDtUEst2gSrl",
    "outputId": "ef93e748-f714-4b42-cf61-593f12bb590f"
   },
   "outputs": [
    {
     "name": "stdout",
     "output_type": "stream",
     "text": [
      "\n",
      "🔶 **Fine-Tuned Model Output:**\n",
      " Tell me a story about a brave warrior.\n",
      "The brave warrior had a heart of gold and a spirit of courage. He had honed his skills through years of training and practice. He was fearless and would never back down from a challenge, no matter how difficult it seemed. He had a special bond with his allies, who were like family to him. He faced many foes in his lifetime, but always emerged victorious. He was known far and wide for his bravery and courage, and was a\n"
     ]
    }
   ],
   "source": [
    "prompt = \"Tell me a story about a brave warrior.\"\n",
    "\n",
    "fine_tuned_output = text_generator(prompt, max_length=100, do_sample=True, temperature=0.7)[0][\"generated_text\"]\n",
    "print(\"\\n🔶 **Fine-Tuned Model Output:**\\n\", fine_tuned_output)"
   ]
  },
  {
   "cell_type": "code",
   "execution_count": null,
   "metadata": {
    "id": "1f3QU_i8lR7l"
   },
   "outputs": [],
   "source": [
    "base_output = \"Tell me a story about a brave warrior.\\nInput: \\nOutput: Once upon a time, there was a brave warrior named Kael. He was known throughout the kingdom for his strength, courage, and unwavering loyalty. Kael was a skilled swordsman and a master strategist, always ready to defend his people from any threat.\\nOne day, a dark and powerful enemy invaded the kingdom. The enemy was a fearsome army of dragons, and they had already conquered many cities and\""
   ]
  },
  {
   "cell_type": "code",
   "execution_count": null,
   "metadata": {
    "colab": {
     "base_uri": "https://localhost:8080/",
     "height": 405,
     "referenced_widgets": [
      "ae75d93d901b4fb28bb74f0604e22bd7",
      "b003e6053716496fbeb51ebad8d9d10a",
      "b637a5ab2fc74b929887efd418031279",
      "c344f0275ff74439ab3e20e547d2968b",
      "0a4a592abbe644609dd85d0b7f6b0680",
      "c811a68d67cf4baaaecfa33d7c58e1a8",
      "612da2372f35458b883d28f992fe73b6",
      "e36db5fd085c41768111c61df6b44c2b",
      "87adc7f58fb147359eb9fc500695971f",
      "ae1d846ddd22460ca848229873e4f340",
      "ec2eed67f98c4e4783dedd9c1d04a5e1",
      "965221a25dd843c5b7466d2a7659278e",
      "b2cc36831b8e489f9d5936f463f5cbaf",
      "e6ceb42df13d486a877928d0268fb8b6",
      "71901e2eff9c4ebea98a3b80b7347b6e",
      "c36fc0ff69c04f9989a97fde1ac742e2",
      "205fbfb94a6e44bbb80d4e9121c6f94a",
      "0abba541ce02440590d5bc913c83c43c",
      "d4c8b850c3e447cd8ca69d955c62ddbb",
      "d92624ae1d504a609a6d9ce3ccb2b05e",
      "a7a30ec9b8d04b62a8606643a717faec",
      "5da0d1f51a204673b693aa106ddca4c8",
      "190f957396cc4211b4d282280966d89b",
      "2dacdc5fe86c49bd991af5c208daf990",
      "19801706e8004532ad3280f401152bfa",
      "df065c8c07364698ac71e0854ad476f1",
      "5586ade95a6440c6a9069b16e661c33d",
      "7bf597502c4d4d9ab10ee178ed3c34d5",
      "8bb1a4bd7abf4b77b65bc4f0d2b10a63",
      "4c629d14312b46008a2088ca95bc43ca",
      "0dbfe2908b894129a85e6729bbcf7376",
      "aa9cb29a8367476a84ef72a928f43a82",
      "75d8ad35fdc64bce92c71c5a5a4fb98a",
      "cf40053a7c4f4f84ba095c185ccdede8",
      "b43811e6a05f4a028912352b34d12358",
      "e6dc18d89d264a87b54b66dcbe8f296a",
      "279eff1cfa8a4374ade910e43edd665f",
      "d98325333301418982e965a9540005eb",
      "38e5ae451d444abcae7a693a14183912",
      "5b646a4af18944afb34ed5a90ac0e926",
      "70dc3a358c0b4c43a0687f3174a0dd60",
      "9cd27e4d6b334d79ae51c8cd656a3cf5",
      "d814ba4692a646559916eb25fbee9c94",
      "8a134d0192a9475699c9a1516e11ea04",
      "c2a9c00d0411452b889362cf5be12b1f",
      "6fb5f2a3feb04827b4872a045e353cf4",
      "db87a02fabf548b3afe177788b7511af",
      "1e0ff816dc4842f5b90d798e3324bf37",
      "b66f46cd992441be9e5b74a15a6b192b",
      "37cb9def057047c6b5c38f4e19341c96",
      "f5c0ab2aed0a441480e9349fb711397a",
      "fab28e0e02284cfba50ffeb2081216cb",
      "8863b11200ca4c00a91d6d070bc34bdb",
      "1ae7dabd2ee3441a9f3cab2df57f96a5",
      "1b751c62d2ac4ce79193ef229ebccd73",
      "e067fd09695a4cc8a284f04d62423171",
      "e703743c6cb6476ea8397a7b2872acda",
      "0f98672b085e4f379971f0459fca6d1b",
      "51858290bdca46c0980eb10cb20aacc2",
      "dbfa769904344cb4a5c3df488f21c435",
      "4394612fa4f045f4a1eed0a6b8afb11a",
      "1d09a55f7f7847ccaf76421e84318e1f",
      "d5aee60b0d0543e687be34a381926009",
      "b4fc183a80dc4c59950a0a745d7c3e1b",
      "a6c4cbc930374bf98c9af91d678798ad",
      "931e9d4725c74b4c94c72207659df6b5",
      "a1f8172e2d874569937f619016bc7486",
      "d2dc7fdc501842aa9660c149a51cb756",
      "6ae8a306b5b64fa09536c0154aa0b6fc",
      "becbc50d83dc4dfa8d99a0d199268cb4",
      "f6c4ae1368d04c2c8e174d952602b751",
      "78e29b32d8a84ffe9883af29d1b33a59",
      "a0a4fdc4bb2a49138010a38463b8b376",
      "e86eb4a6dc0c4188bc209c57e8f98a98",
      "3342661f39094ed085eced17cceaac88",
      "bb56497aec29416e9c307be95914e2cd",
      "43f05967a8824365ae9b763af15f2e1e",
      "d4cf1a04d6444d2dac26f908bb5236c8",
      "6fd057050c9047959e4456864f3a44f7",
      "83d5fb795c1f4796a09e498fe2594b85",
      "6229c695540545ad89a96c2d11219198",
      "1905373a381f4479904452a9139d5320",
      "0025382296b64be38fa6af62bcd1ada3",
      "36cb4392be72448e85415010675083db",
      "716abaae4a004e788e3fecd3a8a1b3f4",
      "0072b493057846a19cbbec995624c2f9",
      "4f5d83794c804b278310f1af9fe6bd40",
      "4ecb96bd9c25462e9b51c4caabd22666",
      "9aca4aa7970740c2a8cbcd420c54b42b",
      "eccf2dca507645269b0d64ec22271e88",
      "fd30231479054fbbb7ea2d42d3dbc5ff",
      "8f9fca09767249d881251be28b7b0673",
      "7c465360851a41b6a7341316651ba9c2",
      "419261922c7a4f4abdbb9f416d999c73",
      "01a46032b38c4f2fb77f439cc02277d0",
      "f07e93a21c7b4c02bbd2f3fad91b37a2",
      "194d9045aa2243c588c70d6532e92310",
      "c44f28a3304246ba95eb9f99fd5b687a",
      "c85b84a1bd0d4817a5a37678fef82458",
      "2d3778d5cac44616a8a7d554fb5ba1d1",
      "babb4b65d42745dab87eca36b0c4b343",
      "674736670e114b6098000793dbe45f9e",
      "f6d9fdaa0f78483ebd54630e370a491c",
      "fb067f017d3343ff87e7995c8581e272",
      "847fe1e19f774c0a8544c44763d13a21",
      "a4827c60ebae4ab08c63da0df51830f7",
      "f012d396b1be48f7a3d3ddfff43a9b9d",
      "0dd1e6d41ec44e1a847dab7185514d37",
      "9534eda67a274ed8bc9cac2f5ddc69f7",
      "fda419e8293f44a98ce17fb082094817",
      "f182b03d244246f7ac9eb9a9465b16bc",
      "4931494545e242a3bda48835009ca950",
      "68f454c532524937aadc39759bb40cc2",
      "c9e63a5111024c76899ed7c427c6bef0",
      "57b18104c4ff44539b536a2c4c85c2f8",
      "f3e85affcc1847c5afcc7b27d146ca50",
      "65154b3f49fc4a698ee0ea8841539343",
      "12f572f1941c4d44ab218df8cef61498",
      "ade6fb50dbd442899079b294cb10d4e1",
      "0e7165448fdc43239a11fe342ec710b1",
      "3b8a803d7a4e4447bb5c67c3f16caf3e"
     ]
    },
    "id": "Abx_fd7YnIrv",
    "outputId": "5a22c1fc-44c7-4775-d5c5-d489e87c9ef5"
   },
   "outputs": [
    {
     "data": {
      "application/vnd.jupyter.widget-view+json": {
       "model_id": "ae75d93d901b4fb28bb74f0604e22bd7",
       "version_major": 2,
       "version_minor": 0
      },
      "text/plain": [
       "modules.json:   0%|          | 0.00/349 [00:00<?, ?B/s]"
      ]
     },
     "metadata": {},
     "output_type": "display_data"
    },
    {
     "data": {
      "application/vnd.jupyter.widget-view+json": {
       "model_id": "965221a25dd843c5b7466d2a7659278e",
       "version_major": 2,
       "version_minor": 0
      },
      "text/plain": [
       "config_sentence_transformers.json:   0%|          | 0.00/116 [00:00<?, ?B/s]"
      ]
     },
     "metadata": {},
     "output_type": "display_data"
    },
    {
     "data": {
      "application/vnd.jupyter.widget-view+json": {
       "model_id": "190f957396cc4211b4d282280966d89b",
       "version_major": 2,
       "version_minor": 0
      },
      "text/plain": [
       "README.md:   0%|          | 0.00/10.5k [00:00<?, ?B/s]"
      ]
     },
     "metadata": {},
     "output_type": "display_data"
    },
    {
     "data": {
      "application/vnd.jupyter.widget-view+json": {
       "model_id": "cf40053a7c4f4f84ba095c185ccdede8",
       "version_major": 2,
       "version_minor": 0
      },
      "text/plain": [
       "sentence_bert_config.json:   0%|          | 0.00/53.0 [00:00<?, ?B/s]"
      ]
     },
     "metadata": {},
     "output_type": "display_data"
    },
    {
     "data": {
      "application/vnd.jupyter.widget-view+json": {
       "model_id": "c2a9c00d0411452b889362cf5be12b1f",
       "version_major": 2,
       "version_minor": 0
      },
      "text/plain": [
       "config.json:   0%|          | 0.00/612 [00:00<?, ?B/s]"
      ]
     },
     "metadata": {},
     "output_type": "display_data"
    },
    {
     "data": {
      "application/vnd.jupyter.widget-view+json": {
       "model_id": "e067fd09695a4cc8a284f04d62423171",
       "version_major": 2,
       "version_minor": 0
      },
      "text/plain": [
       "model.safetensors:   0%|          | 0.00/90.9M [00:00<?, ?B/s]"
      ]
     },
     "metadata": {},
     "output_type": "display_data"
    },
    {
     "data": {
      "application/vnd.jupyter.widget-view+json": {
       "model_id": "a1f8172e2d874569937f619016bc7486",
       "version_major": 2,
       "version_minor": 0
      },
      "text/plain": [
       "tokenizer_config.json:   0%|          | 0.00/350 [00:00<?, ?B/s]"
      ]
     },
     "metadata": {},
     "output_type": "display_data"
    },
    {
     "data": {
      "application/vnd.jupyter.widget-view+json": {
       "model_id": "d4cf1a04d6444d2dac26f908bb5236c8",
       "version_major": 2,
       "version_minor": 0
      },
      "text/plain": [
       "vocab.txt:   0%|          | 0.00/232k [00:00<?, ?B/s]"
      ]
     },
     "metadata": {},
     "output_type": "display_data"
    },
    {
     "data": {
      "application/vnd.jupyter.widget-view+json": {
       "model_id": "9aca4aa7970740c2a8cbcd420c54b42b",
       "version_major": 2,
       "version_minor": 0
      },
      "text/plain": [
       "tokenizer.json:   0%|          | 0.00/466k [00:00<?, ?B/s]"
      ]
     },
     "metadata": {},
     "output_type": "display_data"
    },
    {
     "data": {
      "application/vnd.jupyter.widget-view+json": {
       "model_id": "2d3778d5cac44616a8a7d554fb5ba1d1",
       "version_major": 2,
       "version_minor": 0
      },
      "text/plain": [
       "special_tokens_map.json:   0%|          | 0.00/112 [00:00<?, ?B/s]"
      ]
     },
     "metadata": {},
     "output_type": "display_data"
    },
    {
     "data": {
      "application/vnd.jupyter.widget-view+json": {
       "model_id": "f182b03d244246f7ac9eb9a9465b16bc",
       "version_major": 2,
       "version_minor": 0
      },
      "text/plain": [
       "config.json:   0%|          | 0.00/190 [00:00<?, ?B/s]"
      ]
     },
     "metadata": {},
     "output_type": "display_data"
    },
    {
     "name": "stdout",
     "output_type": "stream",
     "text": [
      "\n",
      "📊 Cosine Similarity Between Outputs: 0.7960 (higher = more similar)\n"
     ]
    }
   ],
   "source": [
    "import torch\n",
    "import torch.nn.functional as F\n",
    "from sentence_transformers import SentenceTransformer\n",
    "\n",
    "# Load embedding model (small and efficient)\n",
    "embedding_model = SentenceTransformer(\"all-MiniLM-L6-v2\")\n",
    "\n",
    "# Get embeddings\n",
    "base_embedding = embedding_model.encode(base_output, convert_to_tensor=True)\n",
    "fine_tuned_embedding = embedding_model.encode(fine_tuned_output, convert_to_tensor=True)\n",
    "\n",
    "# Compute cosine similarity\n",
    "similarity_score = F.cosine_similarity(base_embedding, fine_tuned_embedding, dim=0)\n",
    "\n",
    "print(f\"\\n📊 Cosine Similarity Between Outputs: {similarity_score.item():.4f} (higher = more similar)\")\n"
   ]
  },
  {
   "cell_type": "code",
   "execution_count": null,
   "metadata": {
    "id": "MWZ8UIsBs7IL"
   },
   "outputs": [],
   "source": [
    "import math\n",
    "\n",
    "def calculate_perplexity(model, tokenizer, text):\n",
    "    encodings = tokenizer(text, return_tensors=\"pt\")\n",
    "    input_ids = encodings.input_ids.to(model.device)\n",
    "\n",
    "    with torch.no_grad():\n",
    "        outputs = model(input_ids, labels=input_ids)\n",
    "        loss = outputs.loss\n",
    "\n",
    "    perplexity = math.exp(loss.item())\n",
    "    return perplexity"
   ]
  },
  {
   "cell_type": "code",
   "execution_count": null,
   "metadata": {
    "colab": {
     "base_uri": "https://localhost:8080/"
    },
    "id": "GNaOVpFRnt5b",
    "outputId": "f0804d6d-9f4d-4f74-cbae-096e055eaa46"
   },
   "outputs": [
    {
     "name": "stdout",
     "output_type": "stream",
     "text": [
      "Perplexity Scores:\n",
      " Fine-Tuned Model Perplexity: 3.9763\n"
     ]
    }
   ],
   "source": [
    "# Example prompt\n",
    "prompt = \"Tell me a story about a brave warrior.\"\n",
    "\n",
    "# Compute perplexity for base model\n",
    "# Compute perplexity for fine-tuned model\n",
    "fine_tuned_ppl = calculate_perplexity(model,tokenizer, prompt)\n",
    "\n",
    "print(f\"Perplexity Scores:\")\n",
    "print(f\" Fine-Tuned Model Perplexity: {fine_tuned_ppl:.4f}\")"
   ]
  },
  {
   "cell_type": "code",
   "execution_count": null,
   "metadata": {
    "colab": {
     "base_uri": "https://localhost:8080/",
     "height": 391
    },
    "id": "4DsqEpa3pDFV",
    "outputId": "082e041b-4178-49fa-b537-7ee24c2f668a"
   },
   "outputs": [
    {
     "data": {
      "image/png": "[encoded data removed]",
      "text/plain": [
       "<Figure size 600x400 with 1 Axes>"
      ]
     },
     "metadata": {},
     "output_type": "display_data"
    }
   ],
   "source": [
    "fine_tuned_ppl= 3.9057\n",
    "base_ppl= 9.6085\n",
    "import matplotlib.pyplot as plt\n",
    "\n",
    "# Data for visualization\n",
    "models = [\"Base Model\", \"Fine-Tuned Model\"]\n",
    "perplexities = [base_ppl, fine_tuned_ppl]\n",
    "\n",
    "# Plot\n",
    "plt.figure(figsize=(6, 4))\n",
    "plt.bar(models, perplexities, color=['blue', 'orange'])\n",
    "plt.ylabel(\"Perplexity (Lower is Better)\")\n",
    "plt.title(\"Perplexity Comparison Before and After Fine-Tuning\")\n",
    "plt.ylim(0, max(perplexities) * 1.2)  # Adjust y-axis for clarity\n",
    "\n",
    "# Annotate values\n",
    "for i, val in enumerate(perplexities):\n",
    "    plt.text(i, val + 0.1, f\"{val:.2f}\", ha='center', fontsize=12)\n",
    "\n",
    "plt.show()\n"
   ]
  }
 ],
 "metadata": {
  "accelerator": "GPU",
  "colab": {
   "gpuType": "T4",
   "provenance": []
  },
  "kernelspec": {
   "display_name": "Python 3",
   "name": "python3"
  },
  "language_info": {
   "name": "python"
  }
 },
 "nbformat": 4,
 "nbformat_minor": 0
}
